{
  "nbformat": 4,
  "nbformat_minor": 0,
  "metadata": {
    "colab": {
      "name": "IQ based on Brain Size.ipynb",
      "version": "0.3.2",
      "provenance": [],
      "collapsed_sections": []
    },
    "kernelspec": {
      "name": "python3",
      "display_name": "Python 3"
    },
    "accelerator": "GPU"
  },
  "cells": [
    {
      "metadata": {
        "id": "1LR4Gi5Nn56j",
        "colab_type": "text"
      },
      "cell_type": "markdown",
      "source": [
        "First, install OpenML, a library that provides access to the datasets on https://www.openml.org. You also need scale to make all the measurements have equal importance."
      ]
    },
    {
      "metadata": {
        "id": "-ZDEkwZekwKH",
        "colab_type": "code",
        "colab": {}
      },
      "cell_type": "code",
      "source": [
        "!pip install openml"
      ],
      "execution_count": 0,
      "outputs": []
    },
    {
      "metadata": {
        "id": "4uL3QkbVoDdm",
        "colab_type": "text"
      },
      "cell_type": "markdown",
      "source": [
        "Next, import `openml`. You also import `train_test_split` for splitting up the data into training and testing data. Also import `ExtraTreesClassifier` from SKLearn."
      ]
    },
    {
      "metadata": {
        "id": "ydMq3Lffk2HK",
        "colab_type": "code",
        "colab": {}
      },
      "cell_type": "code",
      "source": [
        "import openml as oml\n",
        "from sklearn.preprocessing import scale\n",
        "from sklearn.model_selection import train_test_split\n",
        "from sklearn.ensemble import ExtraTreesClassifier\n",
        "import pandas as pd\n",
        "import numpy as np"
      ],
      "execution_count": 0,
      "outputs": []
    },
    {
      "metadata": {
        "id": "oSq_SP-OoOHD",
        "colab_type": "text"
      },
      "cell_type": "markdown",
      "source": [
        "Next, load in the dataset from OpenML and split it into training and testing data."
      ]
    },
    {
      "metadata": {
        "id": "iuKp9of0k8oN",
        "colab_type": "code",
        "outputId": "86fd04d1-c7a2-4faa-a9ba-35daf98ea2a3",
        "colab": {
          "base_uri": "https://localhost:8080/",
          "height": 51
        }
      },
      "cell_type": "code",
      "source": [
        "dataset = oml.datasets.get_dataset(1093)\n",
        "\n",
        "x, y, attribute_names = dataset.get_data(\n",
        "    target=dataset.default_target_attribute,\n",
        "    return_attribute_names=True,\n",
        ")\n",
        "\n",
        "x = pd.DataFrame(data=x,columns=['0','IQ','2','3','4','5']) \n",
        "x['mri']=y\n",
        "x = x.fillna(0)\n",
        "y=x['IQ']\n",
        "newy = []\n",
        "for key, value in y.iteritems():\n",
        "    newy.append(value)\n",
        "x = x.drop(columns=['IQ'])\n",
        "x = scale(x)\n",
        "\n",
        "xtrain,xtest,ytrain,ytest = train_test_split(x,newy,test_size=0.25, random_state=42)\n",
        "\n",
        "print(newy[0])\n",
        "\n",
        "print(x[0])"
      ],
      "execution_count": 3,
      "outputs": [
        {
          "output_type": "stream",
          "text": [
            "133.0\n",
            "[-1.          0.84265914  0.58476544 -0.6387588  -0.20311788 -1.28652644]\n"
          ],
          "name": "stdout"
        }
      ]
    },
    {
      "metadata": {
        "id": "VyItFgYVoUnM",
        "colab_type": "text"
      },
      "cell_type": "markdown",
      "source": [
        "Now initialize the classifier and fit it to the data."
      ]
    },
    {
      "metadata": {
        "id": "okjB7MHplFy5",
        "colab_type": "code",
        "outputId": "42b7cbb7-50dd-477b-e09b-d24a0887b706",
        "colab": {
          "base_uri": "https://localhost:8080/",
          "height": 119
        }
      },
      "cell_type": "code",
      "source": [
        "trees = ExtraTreesClassifier()\n",
        "trees.fit(xtrain,ytrain)"
      ],
      "execution_count": 4,
      "outputs": [
        {
          "output_type": "execute_result",
          "data": {
            "text/plain": [
              "ExtraTreesClassifier(bootstrap=False, class_weight=None, criterion='gini',\n",
              "           max_depth=None, max_features='auto', max_leaf_nodes=None,\n",
              "           min_impurity_decrease=0.0, min_impurity_split=None,\n",
              "           min_samples_leaf=1, min_samples_split=2,\n",
              "           min_weight_fraction_leaf=0.0, n_estimators=10, n_jobs=1,\n",
              "           oob_score=False, random_state=None, verbose=0, warm_start=False)"
            ]
          },
          "metadata": {
            "tags": []
          },
          "execution_count": 4
        }
      ]
    },
    {
      "metadata": {
        "id": "u86Inups2KRs",
        "colab_type": "text"
      },
      "cell_type": "markdown",
      "source": [
        "We got an impressive 80% accuracy! This seems a bit odd considering the dataset, so further research is required."
      ]
    },
    {
      "metadata": {
        "id": "0TPrd7IplHA1",
        "colab_type": "code",
        "outputId": "fdb3323e-8bec-4ca3-8652-b32adeab6ade",
        "colab": {
          "base_uri": "https://localhost:8080/",
          "height": 34
        }
      },
      "cell_type": "code",
      "source": [
        "pred = trees.predict(xtest)\n",
        "count = 0\n",
        "\n",
        "for i in range(len(pred)):\n",
        "  if (np.absolute(pred[i]-ytest[i])<=5):\n",
        "    count+=1\n",
        "\n",
        "print((count/len(ytest))*100)"
      ],
      "execution_count": 5,
      "outputs": [
        {
          "output_type": "stream",
          "text": [
            "80.0\n"
          ],
          "name": "stdout"
        }
      ]
    }
  ]
}