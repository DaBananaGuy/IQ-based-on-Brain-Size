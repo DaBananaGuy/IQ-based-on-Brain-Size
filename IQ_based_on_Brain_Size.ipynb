{
  "nbformat": 4,
  "nbformat_minor": 0,
  "metadata": {
    "colab": {
      "name": "IQ based on Brain Size.ipynb",
      "version": "0.3.2",
      "provenance": [],
      "collapsed_sections": []
    },
    "kernelspec": {
      "name": "python3",
      "display_name": "Python 3"
    },
    "accelerator": "GPU"
  },
  "cells": [
    {
      "metadata": {
        "id": "1LR4Gi5Nn56j",
        "colab_type": "text"
      },
      "cell_type": "markdown",
      "source": [
        "First, install OpenML, a library that provides access to the datasets on https://www.openml.org. You also need scale to make all the measurements have equal importance."
      ]
    },
    {
      "metadata": {
        "id": "-ZDEkwZekwKH",
        "colab_type": "code",
        "colab": {}
      },
      "cell_type": "code",
      "source": [
        "!pip install openml"
      ],
      "execution_count": 0,
      "outputs": []
    },
    {
      "metadata": {
        "id": "4uL3QkbVoDdm",
        "colab_type": "text"
      },
      "cell_type": "markdown",
      "source": [
        "Next, import `openml`. You also import `train_test_split` for splitting up the data into training and testing data. Also import `ExtraTreesClassifier` from SKLearn."
      ]
    },
    {
      "metadata": {
        "id": "ydMq3Lffk2HK",
        "colab_type": "code",
        "colab": {}
      },
      "cell_type": "code",
      "source": [
        "import openml as oml\n",
        "from sklearn.preprocessing import scale\n",
        "from sklearn.model_selection import train_test_split\n",
        "from sklearn.ensemble import ExtraTreesClassifier\n",
        "import pandas as pd\n",
        "import numpy as np"
      ],
      "execution_count": 0,
      "outputs": []
    },
    {
      "metadata": {
        "id": "oSq_SP-OoOHD",
        "colab_type": "text"
      },
      "cell_type": "markdown",
      "source": [
        "Next, load in the dataset from OpenML and split it into training and testing data."
      ]
    },
    {
      "metadata": {
        "id": "iuKp9of0k8oN",
        "colab_type": "code",
        "outputId": "8ffb1106-3dba-409b-dbf2-a8b8773586d3",
        "colab": {
          "base_uri": "https://localhost:8080/",
          "height": 51
        }
      },
      "cell_type": "code",
      "source": [
        "dataset = oml.datasets.get_dataset(1093)\n",
        "\n",
        "x, y, attribute_names = dataset.get_data(\n",
        "    target=dataset.default_target_attribute,\n",
        "    return_attribute_names=True,\n",
        ")\n",
        "\n",
        "x = pd.DataFrame(data=x,columns=['0','IQ','2','3','4','5']) \n",
        "x['mri']=y\n",
        "x = x.fillna(0)\n",
        "y=x['IQ']\n",
        "newy = []\n",
        "for key, value in y.iteritems():\n",
        "    newy.append(value)\n",
        "    \n",
        "x = x.drop(columns=['IQ'])\n",
        "x = x.drop(columns=['2'])\n",
        "x = x.drop(columns=['3'])\n",
        "\n",
        "x = scale(x)\n",
        "\n",
        "xtrain,xtest,ytrain,ytest = train_test_split(x,newy,test_size=0.25, random_state=42)\n",
        "\n",
        "print(newy[0])\n",
        "\n",
        "print(x[0])"
      ],
      "execution_count": 9,
      "outputs": [
        {
          "output_type": "stream",
          "text": [
            "133.0\n",
            "[-1.         -0.6387588  -0.20311788 -1.28652644]\n"
          ],
          "name": "stdout"
        }
      ]
    },
    {
      "metadata": {
        "id": "VyItFgYVoUnM",
        "colab_type": "text"
      },
      "cell_type": "markdown",
      "source": [
        "Now initialize the classifier and fit it to the data."
      ]
    },
    {
      "metadata": {
        "id": "okjB7MHplFy5",
        "colab_type": "code",
        "outputId": "fe815078-cf1b-481f-b336-940f37f5956c",
        "colab": {
          "base_uri": "https://localhost:8080/",
          "height": 119
        }
      },
      "cell_type": "code",
      "source": [
        "trees = ExtraTreesClassifier()\n",
        "trees.fit(xtrain,ytrain)"
      ],
      "execution_count": 10,
      "outputs": [
        {
          "output_type": "execute_result",
          "data": {
            "text/plain": [
              "ExtraTreesClassifier(bootstrap=False, class_weight=None, criterion='gini',\n",
              "           max_depth=None, max_features='auto', max_leaf_nodes=None,\n",
              "           min_impurity_decrease=0.0, min_impurity_split=None,\n",
              "           min_samples_leaf=1, min_samples_split=2,\n",
              "           min_weight_fraction_leaf=0.0, n_estimators=10, n_jobs=1,\n",
              "           oob_score=False, random_state=None, verbose=0, warm_start=False)"
            ]
          },
          "metadata": {
            "tags": []
          },
          "execution_count": 10
        }
      ]
    },
    {
      "metadata": {
        "id": "u86Inups2KRs",
        "colab_type": "text"
      },
      "cell_type": "markdown",
      "source": [
        "We got a 20% accuracy! This is to be expected though."
      ]
    },
    {
      "metadata": {
        "id": "0TPrd7IplHA1",
        "colab_type": "code",
        "outputId": "c8cf768e-9019-499c-a80b-63b0d2c5fecf",
        "colab": {
          "base_uri": "https://localhost:8080/",
          "height": 34
        }
      },
      "cell_type": "code",
      "source": [
        "pred = trees.predict(xtest)\n",
        "count = 0\n",
        "\n",
        "for i in range(len(pred)):\n",
        "  if (np.absolute(pred[i]-ytest[i])<=5):\n",
        "    count+=1\n",
        "\n",
        "print((count/len(ytest))*100)"
      ],
      "execution_count": 11,
      "outputs": [
        {
          "output_type": "stream",
          "text": [
            "20.0\n"
          ],
          "name": "stdout"
        }
      ]
    }
  ]
}